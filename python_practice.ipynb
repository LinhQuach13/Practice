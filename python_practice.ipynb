{
 "cells": [
  {
   "cell_type": "markdown",
   "metadata": {},
   "source": [
    "# Basic Python"
   ]
  },
  {
   "cell_type": "code",
   "execution_count": 6,
   "metadata": {},
   "outputs": [
    {
     "name": "stdout",
     "output_type": "stream",
     "text": [
      "['komodo dragon', 'black mamba', 'saltwater crocodile', 'king cobra', 'american alligator']\n"
     ]
    }
   ],
   "source": [
    "#create a list of reptiles\n",
    "reptiles= [\"komodo dragon\", \"black mamba\", \"saltwater crocodile\", \"king cobra\", \"american alligator\"]\n",
    "\n",
    "print(reptiles)"
   ]
  },
  {
   "cell_type": "code",
   "execution_count": 7,
   "metadata": {},
   "outputs": [
    {
     "name": "stdout",
     "output_type": "stream",
     "text": [
      "['goldfish', 'guppy', 'ocean sunfish', 'carp', 'zebrafish']\n"
     ]
    }
   ],
   "source": [
    "#create a list of fish\n",
    "fish= [\"goldfish\", \"guppy\", \"ocean sunfish\", 'carp', 'zebrafish']\n",
    "\n",
    "print(fish)"
   ]
  },
  {
   "cell_type": "code",
   "execution_count": 8,
   "metadata": {},
   "outputs": [
    {
     "name": "stdout",
     "output_type": "stream",
     "text": [
      "['goldfish', 'guppy', 'ocean sunfish', 'carp', 'zebrafish', 'komodo dragon', 'black mamba', 'saltwater crocodile', 'king cobra', 'american alligator']\n"
     ]
    }
   ],
   "source": [
    "#combine the two lists into a new list\n",
    "\n",
    "fish_and_reptiles = fish + reptiles\n",
    "\n",
    "print(fish_and_reptiles)"
   ]
  },
  {
   "cell_type": "code",
   "execution_count": 3,
   "metadata": {},
   "outputs": [
    {
     "name": "stdout",
     "output_type": "stream",
     "text": [
      "a 1\n",
      "b 3\n",
      "c 5\n"
     ]
    }
   ],
   "source": [
    "#Create a list of dictionaries\n",
    "dataList = [{'a': 1}, {'b': 3}, {'c': 5}]\n",
    "\n",
    "#Iterate through list of dictionaries to return the key and value of dictionaries\n",
    "for dic in dataList:\n",
    "    for key, value in dic.items():\n",
    "        print(key, value)"
   ]
  },
  {
   "cell_type": "code",
   "execution_count": null,
   "metadata": {},
   "outputs": [],
   "source": []
  }
 ],
 "metadata": {
  "kernelspec": {
   "display_name": "Python 3 (ipykernel)",
   "language": "python",
   "name": "python3"
  },
  "language_info": {
   "codemirror_mode": {
    "name": "ipython",
    "version": 3
   },
   "file_extension": ".py",
   "mimetype": "text/x-python",
   "name": "python",
   "nbconvert_exporter": "python",
   "pygments_lexer": "ipython3",
   "version": "3.8.5"
  }
 },
 "nbformat": 4,
 "nbformat_minor": 4
}
