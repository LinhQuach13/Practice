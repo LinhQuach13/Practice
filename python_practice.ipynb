{
 "cells": [
  {
   "cell_type": "markdown",
   "metadata": {},
   "source": [
    "# Basic Python"
   ]
  },
  {
   "cell_type": "code",
   "execution_count": 6,
   "metadata": {},
   "outputs": [
    {
     "name": "stdout",
     "output_type": "stream",
     "text": [
      "['komodo dragon', 'black mamba', 'saltwater crocodile', 'king cobra', 'american alligator']\n"
     ]
    }
   ],
   "source": [
    "#create a list of books\n",
    "reptiles= [\"komodo dragon\", \"black mamba\", \"saltwater crocodile\", \"king cobra\", \"american alligator\"]\n",
    "\n",
    "print(reptiles)"
   ]
  },
  {
   "cell_type": "code",
   "execution_count": 7,
   "metadata": {},
   "outputs": [
    {
     "name": "stdout",
     "output_type": "stream",
     "text": [
      "['goldfish', 'guppy', 'ocean sunfish', 'carp', 'zebrafish']\n"
     ]
    }
   ],
   "source": [
    "#create a list of magazines\n",
    "fish= [\"goldfish\", \"guppy\", \"ocean sunfish\", 'carp', 'zebrafish']\n",
    "\n",
    "print(fish)"
   ]
  },
  {
   "cell_type": "code",
   "execution_count": 8,
   "metadata": {},
   "outputs": [
    {
     "name": "stdout",
     "output_type": "stream",
     "text": [
      "['goldfish', 'guppy', 'ocean sunfish', 'carp', 'zebrafish', 'komodo dragon', 'black mamba', 'saltwater crocodile', 'king cobra', 'american alligator']\n"
     ]
    }
   ],
   "source": [
    "#combine the two lists into a new list\n",
    "\n",
    "fish_and_reptiles = fish + reptiles\n",
    "\n",
    "print(fish_and_reptiles)"
   ]
  },
  {
   "cell_type": "code",
   "execution_count": null,
   "metadata": {},
   "outputs": [],
   "source": []
  }
 ],
 "metadata": {
  "kernelspec": {
   "display_name": "Python 3 (ipykernel)",
   "language": "python",
   "name": "python3"
  },
  "language_info": {
   "codemirror_mode": {
    "name": "ipython",
    "version": 3
   },
   "file_extension": ".py",
   "mimetype": "text/x-python",
   "name": "python",
   "nbconvert_exporter": "python",
   "pygments_lexer": "ipython3",
   "version": "3.8.5"
  }
 },
 "nbformat": 4,
 "nbformat_minor": 4
}
