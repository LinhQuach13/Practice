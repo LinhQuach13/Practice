{
  "nbformat": 4,
  "nbformat_minor": 0,
  "metadata": {
    "kernelspec": {
      "display_name": "Python 3",
      "language": "python",
      "name": "python3"
    },
    "language_info": {
      "codemirror_mode": {
        "name": "ipython",
        "version": 3
      },
      "file_extension": ".py",
      "mimetype": "text/x-python",
      "name": "python",
      "nbconvert_exporter": "python",
      "pygments_lexer": "ipython3",
      "version": "3.8.5"
    },
    "colab": {
      "name": "pandas_series_practice.ipynb",
      "provenance": []
    }
  },
  "cells": [
    {
      "cell_type": "code",
      "metadata": {
        "id": "BmDwrEcc0dsZ"
      },
      "source": [
        "import pandas as pd"
      ],
      "execution_count": null,
      "outputs": []
    },
    {
      "cell_type": "code",
      "metadata": {
        "id": "gu1Migl90dsb",
        "outputId": "bb618100-e6b6-498d-9dfa-b938f867c06c"
      },
      "source": [
        "#make this list a pandas series\n",
        "animal_series= pd.Series([\"dog\", \"cat\", \"parrot\", \"hamster\", \"pig\", \"horse\", \"cow\", \"goat\"])\n",
        "animal_series"
      ],
      "execution_count": null,
      "outputs": [
        {
          "output_type": "execute_result",
          "data": {
            "text/plain": [
              "0        dog\n",
              "1        cat\n",
              "2     parrot\n",
              "3    hamster\n",
              "4        pig\n",
              "5      horse\n",
              "6        cow\n",
              "7       goat\n",
              "dtype: object"
            ]
          },
          "metadata": {
            "tags": []
          },
          "execution_count": 8
        }
      ]
    },
    {
      "cell_type": "markdown",
      "metadata": {
        "id": "bSdCU5ai0dsc"
      },
      "source": [
        "Determine the number of elements in series."
      ]
    },
    {
      "cell_type": "code",
      "metadata": {
        "id": "dUvfjQVP0dsc",
        "outputId": "f098c3dd-dc14-4dc6-a95f-b0fc83bfa936"
      },
      "source": [
        "len(animal_series)"
      ],
      "execution_count": null,
      "outputs": [
        {
          "output_type": "execute_result",
          "data": {
            "text/plain": [
              "8"
            ]
          },
          "metadata": {
            "tags": []
          },
          "execution_count": 9
        }
      ]
    },
    {
      "cell_type": "markdown",
      "metadata": {
        "id": "kyPyB8fL0dsd"
      },
      "source": [
        "Output only the index from series."
      ]
    },
    {
      "cell_type": "code",
      "metadata": {
        "id": "KkTxVhtc0dse",
        "outputId": "aca2e265-eba0-4bbb-adf8-23da77b8ab80"
      },
      "source": [
        "animal_series.index"
      ],
      "execution_count": null,
      "outputs": [
        {
          "output_type": "execute_result",
          "data": {
            "text/plain": [
              "RangeIndex(start=0, stop=8, step=1)"
            ]
          },
          "metadata": {
            "tags": []
          },
          "execution_count": 10
        }
      ]
    },
    {
      "cell_type": "markdown",
      "metadata": {
        "id": "tD5y8s8Q0dse"
      },
      "source": [
        "Output only the values from series.\n"
      ]
    },
    {
      "cell_type": "code",
      "metadata": {
        "id": "ZJ31HPro0dse",
        "outputId": "984888b8-0a59-4a8c-ffdb-20e7bc909ff5"
      },
      "source": [
        "animal_series.values"
      ],
      "execution_count": null,
      "outputs": [
        {
          "output_type": "execute_result",
          "data": {
            "text/plain": [
              "array(['dog', 'cat', 'parrot', 'hamster', 'pig', 'horse', 'cow', 'goat'],\n",
              "      dtype=object)"
            ]
          },
          "metadata": {
            "tags": []
          },
          "execution_count": 11
        }
      ]
    },
    {
      "cell_type": "markdown",
      "metadata": {
        "id": "P7VfwC7h0dse"
      },
      "source": [
        "Confirm the data type of the values in series."
      ]
    },
    {
      "cell_type": "code",
      "metadata": {
        "id": "cwmzEBSk0dsf",
        "outputId": "6edafa05-30b5-4efd-c38f-9dcee0be4576"
      },
      "source": [
        "type(animal_series)"
      ],
      "execution_count": null,
      "outputs": [
        {
          "output_type": "execute_result",
          "data": {
            "text/plain": [
              "pandas.core.series.Series"
            ]
          },
          "metadata": {
            "tags": []
          },
          "execution_count": 13
        }
      ]
    },
    {
      "cell_type": "markdown",
      "metadata": {
        "id": "FlmP1EJi0dsf"
      },
      "source": [
        "Output only the first five values from series. Output the last three values. Output two random values from series."
      ]
    },
    {
      "cell_type": "code",
      "metadata": {
        "id": "h-Q8brNN0dsf",
        "outputId": "06654253-05f2-4fbf-f4e4-1544c8276bd8"
      },
      "source": [
        "animal_series.head(5) #return first 5 values"
      ],
      "execution_count": null,
      "outputs": [
        {
          "output_type": "execute_result",
          "data": {
            "text/plain": [
              "0        dog\n",
              "1        cat\n",
              "2     parrot\n",
              "3    hamster\n",
              "4        pig\n",
              "dtype: object"
            ]
          },
          "metadata": {
            "tags": []
          },
          "execution_count": 14
        }
      ]
    },
    {
      "cell_type": "code",
      "metadata": {
        "id": "JAaJSSoT0dsf",
        "outputId": "69f16f18-420c-44a7-83d5-087a9268203b"
      },
      "source": [
        "animal_series.tail(3) # returns last 3 values"
      ],
      "execution_count": null,
      "outputs": [
        {
          "output_type": "execute_result",
          "data": {
            "text/plain": [
              "5    horse\n",
              "6      cow\n",
              "7     goat\n",
              "dtype: object"
            ]
          },
          "metadata": {
            "tags": []
          },
          "execution_count": 15
        }
      ]
    },
    {
      "cell_type": "code",
      "metadata": {
        "id": "XmfzxPY20dsf",
        "outputId": "45462742-c335-4e97-ad7a-d925b1b9f7f0"
      },
      "source": [
        "animal_series.sample(2) # returns 2 random samples"
      ],
      "execution_count": null,
      "outputs": [
        {
          "output_type": "execute_result",
          "data": {
            "text/plain": [
              "7      goat\n",
              "2    parrot\n",
              "dtype: object"
            ]
          },
          "metadata": {
            "tags": []
          },
          "execution_count": 16
        }
      ]
    },
    {
      "cell_type": "markdown",
      "metadata": {
        "id": "guebOrlx0dsg"
      },
      "source": [
        "Run the .describe() on series to see what information it returns when called on a Series with string values."
      ]
    },
    {
      "cell_type": "code",
      "metadata": {
        "id": "EQkSW55O0dsg",
        "outputId": "b9f632e4-65e9-4484-b18d-daf7759158c9"
      },
      "source": [
        "animal_series.describe()"
      ],
      "execution_count": null,
      "outputs": [
        {
          "output_type": "execute_result",
          "data": {
            "text/plain": [
              "count           8\n",
              "unique          8\n",
              "top       hamster\n",
              "freq            1\n",
              "dtype: object"
            ]
          },
          "metadata": {
            "tags": []
          },
          "execution_count": 17
        }
      ]
    },
    {
      "cell_type": "markdown",
      "metadata": {
        "id": "J32vK2o50dsg"
      },
      "source": [
        "Run the code necessary to produce only the unique string values from series.\n"
      ]
    },
    {
      "cell_type": "code",
      "metadata": {
        "id": "6EmjwSAq0dsg",
        "outputId": "fcb81b4c-2722-46cf-f67b-beeab31b2c7b"
      },
      "source": [
        "animal_series.value_counts()"
      ],
      "execution_count": null,
      "outputs": [
        {
          "output_type": "execute_result",
          "data": {
            "text/plain": [
              "hamster    1\n",
              "dog        1\n",
              "cat        1\n",
              "pig        1\n",
              "horse      1\n",
              "cow        1\n",
              "parrot     1\n",
              "goat       1\n",
              "dtype: int64"
            ]
          },
          "metadata": {
            "tags": []
          },
          "execution_count": 19
        }
      ]
    }
  ]
}